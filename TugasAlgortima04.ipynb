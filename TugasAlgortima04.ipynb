{
 "cells": [
  {
   "cell_type": "code",
   "execution_count": 12,
   "metadata": {},
   "outputs": [
    {
     "name": "stdout",
     "output_type": "stream",
     "text": [
      "Hasil dari 100 + 2 = 102\n",
      "Hasil dari 100 - 2 = 98\n",
      "Hasil dari 100 * 2 = 200\n",
      "Hasil dari 100 / 2 = 50.0\n",
      "Hasil dari 100 % 2 = 0\n",
      "Hasil dari 2 ** 100 = 1267650600228229401496703205376\n"
     ]
    }
   ],
   "source": [
    "#Moh.faizalilhamfalakh\n",
    "#operatoraritmatika\n",
    "a = 100\n",
    "b = 2\n",
    "c = a + b\n",
    "d = a - b\n",
    "e = a * b\n",
    "f = a / b\n",
    "g = a % b\n",
    "h = b ** a\n",
    "print (\"Hasil dari\",a, \"+\",b, \"=\",c)\n",
    "print (\"Hasil dari\",a, \"-\",b, \"=\",d)\n",
    "print (\"Hasil dari\",a, \"*\",b, \"=\",e)\n",
    "print (\"Hasil dari\",a, \"/\",b, \"=\",f)\n",
    "print (\"Hasil dari\",a, \"%\",b, \"=\",g)\n",
    "print (\"Hasil dari\",b, \"**\",a, \"=\",h)"
   ]
  },
  {
   "cell_type": "code",
   "execution_count": 25,
   "metadata": {},
   "outputs": [
    {
     "name": "stdout",
     "output_type": "stream",
     "text": [
      "1000\n",
      "500\n",
      "1000\n",
      "500000\n",
      "1000.0\n",
      "300.0\n",
      "90000.0\n"
     ]
    }
   ],
   "source": [
    "#Moh.faizalilhamfalakh\n",
    "#operatorpenugasan\n",
    "Bola = 1000\n",
    "print (Bola)\n",
    "Bola -=500\n",
    "print (Bola)\n",
    "Bola +=500\n",
    "print (Bola)\n",
    "Bola *=500\n",
    "print (Bola)\n",
    "Bola /= 500\n",
    "print (Bola)\n",
    "Bola %= 700\n",
    "print (Bola)\n",
    "Bola **= 2\n",
    "print (Bola)"
   ]
  },
  {
   "cell_type": "code",
   "execution_count": 27,
   "metadata": {},
   "outputs": [
    {
     "name": "stdout",
     "output_type": "stream",
     "text": [
      "Apa benar x sama dengan y ? False\n",
      "Apa benar x lebih besar dari y ? False\n",
      "Apa benar x lebih kecil dari y ? True\n",
      "Apa benar x tidak sama dengan dari y ? True\n",
      "Apa benar x lebih besar sama dengan dari y ? False\n",
      "Apa benar x lebih kecil sama dengan dari y ? True\n"
     ]
    }
   ],
   "source": [
    "#Moh.faizalilhamfalakh\n",
    "#operatorpembanding\n",
    "x = 50\n",
    "y = 70\n",
    "z = x == y\n",
    "xy = x > y\n",
    "ab = x < y\n",
    "ac = x != y\n",
    "ad = x >= y\n",
    "ae = x <= y\n",
    "print (\"Apa benar x sama dengan y ?\",z)\n",
    "print (\"Apa benar x lebih besar dari y ?\",xy)\n",
    "print (\"Apa benar x lebih kecil dari y ?\",ab)\n",
    "print (\"Apa benar x tidak sama dengan dari y ?\",ac)\n",
    "print (\"Apa benar x lebih besar sama dengan dari y ?\",ad)\n",
    "print (\"Apa benar x lebih kecil sama dengan dari y ?\",ae)"
   ]
  },
  {
   "cell_type": "code",
   "execution_count": 31,
   "metadata": {},
   "outputs": [
    {
     "name": "stdout",
     "output_type": "stream",
     "text": [
      "True\n",
      "False\n",
      "True\n"
     ]
    }
   ],
   "source": [
    "#Moh.faizalilhamfalakh\n",
    "#operatorlogika\n",
    "Q = True\n",
    "Z = False \n",
    "#Logika OR\n",
    "c= Q or Z\n",
    "print (c)\n",
    "#Logika AND\n",
    "d = Q and Z\n",
    "print (d)\n",
    "print (not(z))"
   ]
  },
  {
   "cell_type": "code",
   "execution_count": 3,
   "metadata": {},
   "outputs": [
    {
     "name": "stdout",
     "output_type": "stream",
     "text": [
      "Masukkan nama bayi = Faizal\n",
      "Masukkan berat badan bayi dalam Kg = 5\n",
      "berat bayi dalam kg adalah  5 Kg\n",
      "berat bayi dalam ons adalah  50 Ons\n",
      "berat bayi setelah ditambah 30 ons adalah  80 Ons\n",
      "Berat bayi 1 bulan kedepan harus ditambah 30 Ons,sehingga menjadi 110 ons\n"
     ]
    }
   ],
   "source": [
    "#Moh.faizalilhamfalakh\n",
    "#inputoutput\n",
    "nama = (input (\"Masukkan nama bayi = \"))\n",
    "berat = int(input(\"Masukkan berat badan bayi dalam Kg = \"))\n",
    "beratkg_keons = berat * 10\n",
    "berat_ditambah30ons = beratkg_keons + 30\n",
    "beratbayi_1bulan= berat_ditambah30ons + 30\n",
    "print(\"berat bayi dalam kg adalah \",berat,\"Kg\")\n",
    "print (\"berat bayi dalam ons adalah \",beratkg_keons,\"Ons\")\n",
    "print (\"berat bayi setelah ditambah 30 ons adalah \",berat_ditambah30ons,\"Ons\")\n",
    "print (\"Berat bayi 1 bulan kedepan harus ditambah 30 Ons,sehingga menjadi\",beratbayi_1bulan, \"ons\")"
   ]
  }
 ],
 "metadata": {
  "kernelspec": {
   "display_name": "Python 3",
   "language": "python",
   "name": "python3"
  },
  "language_info": {
   "codemirror_mode": {
    "name": "ipython",
    "version": 3
   },
   "file_extension": ".py",
   "mimetype": "text/x-python",
   "name": "python",
   "nbconvert_exporter": "python",
   "pygments_lexer": "ipython3",
   "version": "3.8.3"
  }
 },
 "nbformat": 4,
 "nbformat_minor": 4
}
