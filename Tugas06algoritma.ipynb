{
 "cells": [
  {
   "cell_type": "code",
   "execution_count": 11,
   "metadata": {},
   "outputs": [
    {
     "name": "stdout",
     "output_type": "stream",
     "text": [
      "Masukkkan Nilai Anda = 100\n",
      "Nilai anda sudah tercukupi,anda tidak mengikuti remidial\n"
     ]
    }
   ],
   "source": [
    "Nilai = int(input(\"Masukkkan Nilai Anda = \"))\n",
    "if Nilai >= 75 :\n",
    "    print(\"Nilai anda sudah tercukupi,anda tidak mengikuti remidial\")\n",
    "else :\n",
    "    print (\"Nilai anda kurang,anda harus mengikuti remidial\")\n",
    "    "
   ]
  },
  {
   "cell_type": "code",
   "execution_count": 12,
   "metadata": {},
   "outputs": [
    {
     "name": "stdout",
     "output_type": "stream",
     "text": [
      "Jari-Jari = 7\n",
      "Luas lingkarannya adalah  153.86\n",
      "Lingkaran ini kecil\n"
     ]
    }
   ],
   "source": [
    "JJ = int(input(\"Jari-Jari = \"))\n",
    "Luas = 3.14*JJ*JJ\n",
    "print(\"Luas lingkarannya adalah \",Luas)\n",
    "if Luas > 314 :\n",
    "    print(\"Lingkaran ini besar\")\n",
    "else :\n",
    "    print(\"Lingkaran ini kecil\")"
   ]
  },
  {
   "cell_type": "code",
   "execution_count": 15,
   "metadata": {},
   "outputs": [
    {
     "name": "stdout",
     "output_type": "stream",
     "text": [
      "Masukkan nomor [1 / 2] : 3\n",
      "Program ini tidak tersedia\n"
     ]
    }
   ],
   "source": [
    "nomor = int(input(\"Masukkan nomor [1 / 2] : \"))\n",
    "def VB():\n",
    "        p = int(input(\"panjang = \"))\n",
    "        l = int(input(\"lebar =  \"))\n",
    "        t = int (input(\"tinggi = \"))\n",
    "        volume = (p*l*t)\n",
    "        return volume\n",
    "def VK ():\n",
    "        s = int(input(\"Sisi = \"))\n",
    "        vol = (s*s*s)\n",
    "        return vol\n",
    "if nomor == 1:\n",
    "    print (\"Volume baloknya adalah \",VB())\n",
    "elif nomor == 2 :\n",
    "    print (\"Volume kubusnya adalah \",VK())\n",
    "else :\n",
    "    print(\"Program ini tidak tersedia\")"
   ]
  }
 ],
 "metadata": {
  "kernelspec": {
   "display_name": "Python 3",
   "language": "python",
   "name": "python3"
  },
  "language_info": {
   "codemirror_mode": {
    "name": "ipython",
    "version": 3
   },
   "file_extension": ".py",
   "mimetype": "text/x-python",
   "name": "python",
   "nbconvert_exporter": "python",
   "pygments_lexer": "ipython3",
   "version": "3.8.3"
  }
 },
 "nbformat": 4,
 "nbformat_minor": 4
}
