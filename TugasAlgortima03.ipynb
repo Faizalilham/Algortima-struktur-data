{
 "cells": [
  {
   "cell_type": "code",
   "execution_count": 18,
   "metadata": {},
   "outputs": [
    {
     "name": "stdout",
     "output_type": "stream",
     "text": [
      "meowmeow\n"
     ]
    }
   ],
   "source": [
    "#moh.faizalilhamfalakh\n",
    "kucing = \"meowmeow\"        #tipedata ,string\n",
    "print (kucing)\n"
   ]
  },
  {
   "cell_type": "code",
   "execution_count": 11,
   "metadata": {},
   "outputs": [
    {
     "ename": "NameError",
     "evalue": "name 'kucing' is not defined",
     "output_type": "error",
     "traceback": [
      "\u001b[1;31m---------------------------------------------------------------------------\u001b[0m",
      "\u001b[1;31mNameError\u001b[0m                                 Traceback (most recent call last)",
      "\u001b[1;32m<ipython-input-11-20769c1e9baf>\u001b[0m in \u001b[0;36m<module>\u001b[1;34m\u001b[0m\n\u001b[0;32m      2\u001b[0m \u001b[0mkucing\u001b[0m \u001b[1;33m=\u001b[0m \u001b[1;34m\"meowmeow\"\u001b[0m\u001b[1;33m\u001b[0m\u001b[1;33m\u001b[0m\u001b[0m\n\u001b[0;32m      3\u001b[0m \u001b[1;32mdel\u001b[0m\u001b[1;33m(\u001b[0m\u001b[0mkucing\u001b[0m\u001b[1;33m)\u001b[0m\u001b[1;33m\u001b[0m\u001b[1;33m\u001b[0m\u001b[0m\n\u001b[1;32m----> 4\u001b[1;33m \u001b[0mprint\u001b[0m\u001b[1;33m(\u001b[0m\u001b[0mkucing\u001b[0m\u001b[1;33m)\u001b[0m\u001b[1;33m\u001b[0m\u001b[1;33m\u001b[0m\u001b[0m\n\u001b[0m",
      "\u001b[1;31mNameError\u001b[0m: name 'kucing' is not defined"
     ]
    }
   ],
   "source": [
    "#moh.faizalilhamfalakh\n",
    "kucing = \"meowmeow\"      #tipedata ,string\n",
    "del(kucing)              #delete ,variabel\n",
    "print(kucing)"
   ]
  },
  {
   "cell_type": "code",
   "execution_count": 2,
   "metadata": {},
   "outputs": [
    {
     "name": "stdout",
     "output_type": "stream",
     "text": [
      "keliling lingkaran sama dengan  314.0\n"
     ]
    }
   ],
   "source": [
    "#moh.faizalilhamfalakh\n",
    "r = 50                 #r ,tipedatainteger\n",
    "phi = 3.14             #phi, tipedatafloat\n",
    "kel = 2*phi*r\n",
    "print (\"keliling lingkaran sama dengan \",kel)"
   ]
  },
  {
   "cell_type": "code",
   "execution_count": 12,
   "metadata": {},
   "outputs": [
    {
     "name": "stdout",
     "output_type": "stream",
     "text": [
      "True\n"
     ]
    }
   ],
   "source": [
    "#moh.faizalilhamfalakh\n",
    "beratgajahdansemut = 70 > 60 #tipedataboolean ,true\n",
    "\n",
    "print (beratgajahdansemut)"
   ]
  },
  {
   "cell_type": "code",
   "execution_count": 13,
   "metadata": {},
   "outputs": [
    {
     "name": "stdout",
     "output_type": "stream",
     "text": [
      "False\n"
     ]
    }
   ],
   "source": [
    "#moh.faizalilhamfalakh\n",
    "print (100 < 0)  #tipedataboolean ,false"
   ]
  },
  {
   "cell_type": "code",
   "execution_count": 5,
   "metadata": {},
   "outputs": [
    {
     "name": "stdout",
     "output_type": "stream",
     "text": [
      "64.0\n",
      "0b1000000\n",
      "0x40\n"
     ]
    }
   ],
   "source": [
    "#moh.faizalilhamfalkh\n",
    "kelereng = 64\n",
    "print (float(kelereng)) #konversidata ,float\n",
    "print (bin(kelereng))   #konversidata ,biner\n",
    "print (hex(kelereng))   #konversidata ,hexadesimal\n"
   ]
  },
  {
   "cell_type": "code",
   "execution_count": 1,
   "metadata": {},
   "outputs": [
    {
     "name": "stdout",
     "output_type": "stream",
     "text": [
      "Biodata Mahasiswa\n",
      "Nama : Moh.faizal ilham falakh\n",
      "NIM : 20090086\n",
      "\n",
      "Dia mahasiswa semester 5 yang berprestasi,karna memiliki IPK sebesar 4.0\n"
     ]
    },
    {
     "ename": "NameError",
     "evalue": "name 'ipk' is not defined",
     "output_type": "error",
     "traceback": [
      "\u001b[1;31m---------------------------------------------------------------------------\u001b[0m",
      "\u001b[1;31mNameError\u001b[0m                                 Traceback (most recent call last)",
      "\u001b[1;32m<ipython-input-1-ef3ccf75ec28>\u001b[0m in \u001b[0;36m<module>\u001b[1;34m\u001b[0m\n\u001b[0;32m     10\u001b[0m Dia mahasiswa semester\"\"\",smstr, \"yang berprestasi,karna memiliki IPK sebesar\",ipk)\n\u001b[0;32m     11\u001b[0m \u001b[1;32mdel\u001b[0m\u001b[1;33m(\u001b[0m\u001b[0mipk\u001b[0m\u001b[1;33m)\u001b[0m\u001b[1;33m\u001b[0m\u001b[1;33m\u001b[0m\u001b[0m\n\u001b[1;32m---> 12\u001b[1;33m \u001b[0mprint\u001b[0m\u001b[1;33m(\u001b[0m\u001b[0mipk\u001b[0m\u001b[1;33m)\u001b[0m\u001b[1;33m\u001b[0m\u001b[1;33m\u001b[0m\u001b[0m\n\u001b[0m\u001b[0;32m     13\u001b[0m \u001b[1;33m\u001b[0m\u001b[0m\n",
      "\u001b[1;31mNameError\u001b[0m: name 'ipk' is not defined"
     ]
    }
   ],
   "source": [
    "judul = \"Biodata Mahasiswa\"\n",
    "nama = \"Nama : Moh.faizal ilham falakh\"\n",
    "nim = \"NIM : 20090086\"\n",
    "smstr = 5\n",
    "ipk = 4.00\n",
    "print (judul)\n",
    "print(nama)\n",
    "print (nim)\n",
    "print (\"\"\"\n",
    "Dia mahasiswa semester\"\"\",smstr, \"yang berprestasi,karna memiliki IPK sebesar\",ipk)\n",
    "del(ipk)\n",
    "print(ipk)\n",
    "\n"
   ]
  }
 ],
 "metadata": {
  "kernelspec": {
   "display_name": "Python 3",
   "language": "python",
   "name": "python3"
  },
  "language_info": {
   "codemirror_mode": {
    "name": "ipython",
    "version": 3
   },
   "file_extension": ".py",
   "mimetype": "text/x-python",
   "name": "python",
   "nbconvert_exporter": "python",
   "pygments_lexer": "ipython3",
   "version": "3.8.3"
  }
 },
 "nbformat": 4,
 "nbformat_minor": 4
}
