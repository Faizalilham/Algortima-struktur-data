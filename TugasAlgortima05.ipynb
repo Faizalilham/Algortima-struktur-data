{
 "cells": [
  {
   "cell_type": "code",
   "execution_count": 1,
   "metadata": {},
   "outputs": [
    {
     "name": "stdout",
     "output_type": "stream",
     "text": [
      "Because i proud to make something new\n",
      "I Like programming\n"
     ]
    }
   ],
   "source": [
    "#Moh.faizalilhamfalakh\n",
    "#membuatfungsi1\n",
    "def katakata():\n",
    "    print (\"Because i proud to make something new\")\n",
    "#membuatfungsi2\n",
    "def IT():\n",
    "    print (\"I Like programming\")\n",
    "#panggilfungsi1dan2\n",
    "katakata()\n",
    "IT()"
   ]
  },
  {
   "cell_type": "code",
   "execution_count": 22,
   "metadata": {},
   "outputs": [
    {
     "name": "stdout",
     "output_type": "stream",
     "text": [
      "perkenalkan nama sayaFaizal\n",
      "nama saya Faizal\n",
      "Luas persegi Panjang adalah 50\n",
      "Luas persegi Panjang adalah 5000\n"
     ]
    }
   ],
   "source": [
    "def P():\n",
    "    nama = input(\"perkenalkan nama saya\")\n",
    "    print(\"nama saya\",nama)\n",
    "def luas_pp(P, L):\n",
    "    luas = P * L\n",
    "    print (\"Luas persegi Panjang adalah\",luas)\n",
    "P()\n",
    "luas_pp (5,10)\n",
    "luas_pp (100,50)"
   ]
  },
  {
   "cell_type": "code",
   "execution_count": 2,
   "metadata": {},
   "outputs": [
    {
     "name": "stdout",
     "output_type": "stream",
     "text": [
      "Panjang = 10\n",
      "Lebar = 10\n",
      "Tinggi = 15\n",
      "LUAS PERSEGI PANJANG ADALAH  100\n",
      "VOLUME PERSEGI PANJANG ADALAH  1500\n"
     ]
    }
   ],
   "source": [
    "Panjang = int(input(\"Panjang = \"))\n",
    "Lebar = int(input(\"Lebar = \"))\n",
    "Tinggi = int(input(\"Tinggi = \"))\n",
    "def A () :\n",
    "    Luas = (Panjang*Lebar)\n",
    "    return Luas\n",
    "def B ():\n",
    "    Volume = (Panjang * Lebar * Tinggi)\n",
    "    return Volume\n",
    "print (\"LUAS PERSEGI PANJANG ADALAH \", A ())\n",
    "print (\"VOLUME PERSEGI PANJANG ADALAH \", B ())\n"
   ]
  },
  {
   "cell_type": "code",
   "execution_count": 1,
   "metadata": {},
   "outputs": [
    {
     "name": "stdout",
     "output_type": "stream",
     "text": [
      "Angka1 = 5\n",
      "Angka2 = 10\n",
      "apakah angka1 sama dengan angka2 ? False\n",
      "apakah angka1 lebih besar dari angka2 ? False\n"
     ]
    }
   ],
   "source": [
    "angka1 = int(input(\"Angka1 = \"))\n",
    "angka2 = int (input(\"Angka2 = \"))\n",
    "def Y ():\n",
    "    A =(angka1 == angka2)\n",
    "    return A\n",
    "def Z():\n",
    "    B = (angka1 > angka2)\n",
    "    return B\n",
    "print (\"apakah angka1 sama dengan angka2 ?\",Y ())\n",
    "print (\"apakah angka1 lebih besar dari angka2 ?\",Z ())"
   ]
  }
 ],
 "metadata": {
  "kernelspec": {
   "display_name": "Python 3",
   "language": "python",
   "name": "python3"
  },
  "language_info": {
   "codemirror_mode": {
    "name": "ipython",
    "version": 3
   },
   "file_extension": ".py",
   "mimetype": "text/x-python",
   "name": "python",
   "nbconvert_exporter": "python",
   "pygments_lexer": "ipython3",
   "version": "3.8.3"
  }
 },
 "nbformat": 4,
 "nbformat_minor": 4
}
