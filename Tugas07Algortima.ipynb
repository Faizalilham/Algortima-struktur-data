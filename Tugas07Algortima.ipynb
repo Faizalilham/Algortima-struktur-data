{
 "cells": [
  {
   "cell_type": "code",
   "execution_count": 7,
   "metadata": {},
   "outputs": [
    {
     "name": "stdout",
     "output_type": "stream",
     "text": [
      "Saya tidak akan mengulangi perbuatan itu lagi\n",
      "Saya tidak akan mengulangi perbuatan itu lagi\n",
      "Saya tidak akan mengulangi perbuatan itu lagi\n",
      "Saya tidak akan mengulangi perbuatan itu lagi\n",
      "Saya tidak akan mengulangi perbuatan itu lagi\n",
      "Saya tidak akan mengulangi perbuatan itu lagi\n",
      "Saya tidak akan mengulangi perbuatan itu lagi\n",
      "Saya tidak akan mengulangi perbuatan itu lagi\n",
      "Saya tidak akan mengulangi perbuatan itu lagi\n",
      "Saya tidak akan mengulangi perbuatan itu lagi\n",
      "Saya tidak akan mengulangi perbuatan itu lagi\n",
      "Saya tidak akan mengulangi perbuatan itu lagi\n",
      "Saya tidak akan mengulangi perbuatan itu lagi\n",
      "Saya tidak akan mengulangi perbuatan itu lagi\n",
      "Saya tidak akan mengulangi perbuatan itu lagi\n",
      "Saya tidak akan mengulangi perbuatan itu lagi\n",
      "Saya tidak akan mengulangi perbuatan itu lagi\n",
      "Saya tidak akan mengulangi perbuatan itu lagi\n",
      "Saya tidak akan mengulangi perbuatan itu lagi\n",
      "Saya tidak akan mengulangi perbuatan itu lagi\n",
      "Saya tidak akan mengulangi perbuatan itu lagi\n",
      "Saya tidak akan mengulangi perbuatan itu lagi\n",
      "Saya tidak akan mengulangi perbuatan itu lagi\n",
      "Saya tidak akan mengulangi perbuatan itu lagi\n",
      "Saya tidak akan mengulangi perbuatan itu lagi\n"
     ]
    }
   ],
   "source": [
    "#Moh.FazialIlhamFalakh\n",
    "I = 25\n",
    "for i in range (I):\n",
    "    print (\"Saya tidak akan mengulangi perbuatan itu lagi\")"
   ]
  },
  {
   "cell_type": "code",
   "execution_count": 1,
   "metadata": {},
   "outputs": [
    {
     "name": "stdout",
     "output_type": "stream",
     "text": [
      "15 True\n",
      "14 True\n",
      "13 True\n",
      "12 True\n",
      "11 True\n",
      "10 False\n",
      "9 False\n",
      "8 False\n",
      "7 False\n",
      "6 False\n",
      "5 False\n",
      "4 False\n",
      "3 False\n",
      "2 False\n",
      "1 False\n"
     ]
    }
   ],
   "source": [
    "#Moh.FaizalIlhamFalakh\n",
    "x = 15\n",
    "for i in range (x) :\n",
    "    print(x, x > 10)\n",
    "    x = x - 1"
   ]
  },
  {
   "cell_type": "code",
   "execution_count": 11,
   "metadata": {},
   "outputs": [
    {
     "name": "stdout",
     "output_type": "stream",
     "text": [
      "Masukkan Nomor = 3\n",
      "3 ini adalah bilangan Ganjil \n",
      "None\n"
     ]
    }
   ],
   "source": [
    "#Moh.Faizalilhamfalakh\n",
    "Angka = int(input(\"Masukkan Nomor = \"))\n",
    "def Bilangan_Genap():\n",
    "    print(Angka,\"ini adalah bilangan genap \")\n",
    "def Bilangan_Ganjil():\n",
    "    print(Angka,\"ini adalah bilangan Ganjil \")\n",
    "if Angka%2 !=0:\n",
    "    print(Bilangan_Ganjil())\n",
    "else :\n",
    "    print(Bilangan_Genap())"
   ]
  },
  {
   "cell_type": "code",
   "execution_count": null,
   "metadata": {},
   "outputs": [],
   "source": []
  },
  {
   "cell_type": "code",
   "execution_count": null,
   "metadata": {},
   "outputs": [],
   "source": []
  }
 ],
 "metadata": {
  "kernelspec": {
   "display_name": "Python 3",
   "language": "python",
   "name": "python3"
  },
  "language_info": {
   "codemirror_mode": {
    "name": "ipython",
    "version": 3
   },
   "file_extension": ".py",
   "mimetype": "text/x-python",
   "name": "python",
   "nbconvert_exporter": "python",
   "pygments_lexer": "ipython3",
   "version": "3.8.3"
  }
 },
 "nbformat": 4,
 "nbformat_minor": 4
}
